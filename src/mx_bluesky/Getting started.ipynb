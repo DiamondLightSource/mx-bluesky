{
 "cells": [
  {
   "cell_type": "markdown",
   "id": "57c4caad-c26c-45af-9089-659c32e96c18",
   "metadata": {},
   "source": [
    "Welcome to MX-Bluesky! This introduction is aimed at beamline scientists running from a beamline workstation. To confirm your environment is setup correctly,\n",
    "run the below command to see if you get your expected beamline"
   ]
  },
  {
   "cell_type": "code",
   "execution_count": null,
   "id": "9d4cd08b-7097-46c2-9c1a-a71a19681c8d",
   "metadata": {},
   "outputs": [],
   "source": [
    "from dodal.utils import get_beamline_name\n",
    "\n",
    "beamline = get_beamline_name(\"dev\")\n",
    "print(f\"Beamline is {beamline}\")"
   ]
  },
  {
   "cell_type": "markdown",
   "id": "fe671aa3-a6b5-4a96-b27f-36c3d52453d6",
   "metadata": {},
   "source": [
    "Now let's import your beamline module and see what devices are available"
   ]
  },
  {
   "cell_type": "code",
   "execution_count": null,
   "id": "535811e1-ac7c-435e-af00-681caefd4787",
   "metadata": {
    "scrolled": true
   },
   "outputs": [],
   "source": [
    "import importlib\n",
    "\n",
    "from dodal.utils import collect_factories\n",
    "\n",
    "module_name = f\"dodal.beamlines.{beamline}\"\n",
    "beamline_module = importlib.import_module(module_name)\n",
    "\n",
    "for device in collect_factories(beamline_module):\n",
    "    print(device)"
   ]
  },
  {
   "cell_type": "markdown",
   "id": "60768231-ae13-4e64-a1ec-eeec6136514a",
   "metadata": {},
   "source": [
    "The Bluesky RunEngine must be used to interact with these devices. The RunEngine does a lot of things and is quite complicated. Some important benefits:\n",
    "It can protect against using devices incorrectly, it allows us to pause and resume experiments, we can easily trace the sequence of events in experiments,\n",
    "and we can customize it to do useful things like automatic plotting.\n",
    "\n",
    "A Bluesky plan is the name for any experimental procedure. A plan can be anything from a simple motor movement to a complex data collection involving tens of devices. A plan is made up of plan stubs, which are the most simple atomic operations. The two most common plan stubs are called \"abs_set\" and \"rd\", and these are essentially just writing to and reading from the PV of a device. Here's what that would look like on a simulated motor:"
   ]
  },
  {
   "cell_type": "code",
   "execution_count": null,
   "id": "30aaf9a1-3921-4be6-9afa-e81c2b216be8",
   "metadata": {},
   "outputs": [],
   "source": [
    "from bluesky import RunEngine\n",
    "from bluesky import plan_stubs as bps\n",
    "from ophyd_async.sim import SimMotor\n",
    "\n",
    "RE = RunEngine() # Create the RunEngine. We only should be doing this once.\n",
    "fake_motor = SimMotor() # Create the simulated motor\n",
    "\n",
    "# Create the overall plan we want to run in the RunEngine\n",
    "def my_plan():\n",
    "    initial_position = yield from bps.rd(fake_motor.user_readback)\n",
    "    print(f\"Position of the motor before moving it is {initial_position}\")\n",
    "    #Now move the motor\n",
    "    yield from bps.abs_set(fake_motor, 5, wait=True) #The code will wait here until the motor has finished moving. The units will be the same as that in EPICS\n",
    "    final_position = yield from bps.rd(fake_motor.user_readback)\n",
    "    print(f\"Position of the motor after moving it is {final_position}\")\n",
    "\n",
    "# In Bluesky, when we actually run a plan, we must do it through the RunEngine like this\n",
    "RE(my_plan())\n"
   ]
  },
  {
   "cell_type": "markdown",
   "id": "37d4bee0-561c-423a-85a4-ba8f157bc02a",
   "metadata": {},
   "source": [
    "The above code can look confusing, mainly because of the \"yield from\" syntax. We need this because Bluesky plans are python generators rather then regular functions.\n",
    "You don't need to understand generators to use Bluesky, you just need to remember than when calling a plan stub, you need to do \"yield from plan_name()\". If you try and call it like a regular function, eg, just doing \"plan_name()\", this won't actually run, and the code may not error - it catches everyone out!\n",
    " \n",
    "The above code ran instantly because the simulated motor has infinite velocity by default. We could set it to a realistic speed, then the code would take time to complete. Let's set the velocity using abs_set and try again:"
   ]
  },
  {
   "cell_type": "code",
   "execution_count": null,
   "id": "a2b7420b-d319-4ea7-b23f-4f4dad94eb34",
   "metadata": {},
   "outputs": [],
   "source": [
    "from time import time\n",
    "\n",
    "RE(bps.abs_set(fake_motor, 0, wait=True)) # Move motor back to 0\n",
    "RE(bps.abs_set(fake_motor.velocity, 2, wait=True)) #2 units per second\n",
    "start_time = time()\n",
    "RE(my_plan())\n",
    "print(f\"Movement took {round(time()-start_time,2)}s\")"
   ]
  },
  {
   "cell_type": "markdown",
   "id": "897483ec-bb9f-42f3-ad8b-15820bf613ee",
   "metadata": {},
   "source": [
    "To see what a device look like and what signals are available to it, we recommend navigating the codebase using VSCode. With many devices including motors, the signals\n",
    "of the dodal device will map very closely to the EPICS interface for that device. With a few exceptions, anything you are used to changing using EDM screens will also be doable inside a Bluesky plan.\n",
    "\n",
    "Now try writing a simple Bluesky plan to move a real motor available using the above example code to help."
   ]
  },
  {
   "cell_type": "code",
   "execution_count": null,
   "id": "bb69130d-ffc2-428c-83bf-56c4cbd47ca2",
   "metadata": {},
   "outputs": [],
   "source": []
  }
 ],
 "metadata": {
  "kernelspec": {
   "display_name": "Python 3 (ipykernel)",
   "language": "python",
   "name": "python3"
  },
  "language_info": {
   "codemirror_mode": {
    "name": "ipython",
    "version": 3
   },
   "file_extension": ".py",
   "mimetype": "text/x-python",
   "name": "python",
   "nbconvert_exporter": "python",
   "pygments_lexer": "ipython3",
   "version": "3.12.11"
  }
 },
 "nbformat": 4,
 "nbformat_minor": 5
}
